{
 "cells": [
  {
   "cell_type": "code",
   "execution_count": 1,
   "id": "344701f0-87a0-4798-85f6-5fa128a1562d",
   "metadata": {},
   "outputs": [],
   "source": [
    "# !pip install funcy\n",
    "# !pip install scikit-multilearn\n",
    "\n",
    "# source: https://github.com/akarazniewicz/cocosplit"
   ]
  },
  {
   "cell_type": "code",
   "execution_count": 2,
   "id": "9d66695b-629a-43ce-8567-96e8ba36662e",
   "metadata": {},
   "outputs": [],
   "source": [
    "import os\n",
    "import json\n",
    "import shutil\n",
    "import argparse\n",
    "import funcy\n",
    "from sklearn.model_selection import train_test_split\n",
    "from skmultilearn.model_selection import iterative_train_test_split\n",
    "import numpy as np\n",
    "import pandas as pd\n",
    "from tqdm.notebook import tqdm"
   ]
  },
  {
   "cell_type": "code",
   "execution_count": 3,
   "id": "9034e72d-9af8-4ac0-8d55-be0019fdfd9a",
   "metadata": {},
   "outputs": [],
   "source": [
    "def save_coco(file, info, licenses, images, annotations, categories):\n",
    "    with open(file, 'wt', encoding='UTF-8') as coco:\n",
    "        json.dump({ 'info': info, 'licenses': licenses, 'images': images, \n",
    "            'annotations': annotations, 'categories': categories}, coco, indent=2, sort_keys=True)\n",
    "\n",
    "def filter_annotations(annotations, images):\n",
    "    image_ids = funcy.lmap(lambda i: int(i['id']), images)\n",
    "    return funcy.lfilter(lambda a: int(a['image_id']) in image_ids, annotations)\n",
    "\n",
    "\n",
    "def filter_images(images, annotations):\n",
    "    annotation_ids = funcy.lmap(lambda i: int(i['image_id']), annotations)\n",
    "    return funcy.lfilter(lambda a: int(a['id']) in annotation_ids, images)"
   ]
  },
  {
   "cell_type": "code",
   "execution_count": 4,
   "id": "9bf9f903-be60-484e-8ff4-48dab51acb6b",
   "metadata": {},
   "outputs": [],
   "source": [
    "annotations = \"./ppes-custom-dataset/all/_annotations.coco.json\"  # path to COCO annotations file\n",
    "train = \"./ppes-custom-dataset/train/_annotations.coco.json\"  # here to store COCO training annotations\n",
    "test = \"./ppes-custom-dataset/valid/_annotations.coco.json\"  # here to store COCO training annotations\n",
    "train_ratio = 0.8  # a percentage of a split; a number in (0, 1)\n",
    "multi_class = True  # split a multi-class dataset while preserving class distributions in train and test sets\n",
    "\n",
    "src_dir = \"./ppes-custom-dataset/all/\"  # directory with all images"
   ]
  },
  {
   "cell_type": "code",
   "execution_count": 5,
   "id": "dcabed31-8961-4a3d-a270-eaf4d87291e1",
   "metadata": {},
   "outputs": [
    {
     "name": "stdout",
     "output_type": "stream",
     "text": [
      "Saved 146104 entries in ./ppes-custom-dataset/train/_annotations.coco.json and 36526 in ./ppes-custom-dataset/valid/_annotations.coco.json\n"
     ]
    }
   ],
   "source": [
    "with open(annotations, 'rt', encoding='UTF-8') as annotations:\n",
    "    coco = json.load(annotations)\n",
    "    info = coco['info']\n",
    "    licenses = coco['licenses']\n",
    "    images = coco['images']\n",
    "    annotations = coco['annotations']\n",
    "    categories = coco['categories']\n",
    "\n",
    "    number_of_images = len(images)\n",
    "\n",
    "    images_with_annotations = funcy.lmap(lambda a: int(a['image_id']), annotations)\n",
    "\n",
    "\n",
    "    if multi_class:\n",
    "\n",
    "        annotation_categories = funcy.lmap(lambda a: int(a['category_id']), annotations)\n",
    "\n",
    "        X_train, y_train, X_test, y_test = iterative_train_test_split(np.array([annotations]).T,np.array([annotation_categories]).T, test_size = 1-train_ratio)\n",
    "\n",
    "        save_coco(train, info, licenses, filter_images(images, X_train.reshape(-1)), X_train.reshape(-1).tolist(), categories)\n",
    "        save_coco(test, info, licenses,  filter_images(images, X_test.reshape(-1)), X_test.reshape(-1).tolist(), categories)\n",
    "\n",
    "        print(\"Saved {} entries in {} and {} in {}\".format(len(X_train), train, len(X_test), test))\n",
    "\n",
    "    else:\n",
    "\n",
    "        X_train, X_test = train_test_split(images, train_size=train_ratio)\n",
    "\n",
    "        anns_train = filter_annotations(annotations, X_train)\n",
    "        anns_test=filter_annotations(annotations, X_test)\n",
    "\n",
    "        save_coco(train, info, licenses, X_train, anns_train, categories)\n",
    "        save_coco(test, info, licenses, X_test, anns_test, categories)\n",
    "\n",
    "        print(\"Saved {} entries in {} and {} in {}\".format(len(anns_train), train, len(anns_test), test))"
   ]
  },
  {
   "cell_type": "code",
   "execution_count": 9,
   "id": "e55f44e4-1889-41b6-a5eb-3bda3f27e93e",
   "metadata": {},
   "outputs": [
    {
     "data": {
      "application/vnd.jupyter.widget-view+json": {
       "model_id": "c676b375f8354b0e80b45d2c731e100b",
       "version_major": 2,
       "version_minor": 0
      },
      "text/plain": [
       "  0%|          | 0/36524 [00:00<?, ?it/s]"
      ]
     },
     "metadata": {},
     "output_type": "display_data"
    }
   ],
   "source": [
    "# copy images between locations (from all/ subdirectory to train/ and valid/ respectively)\n",
    "with open(train, 'rt', encoding='UTF-8') as f:\n",
    "    anns_train = json.load(f)\n",
    "f.close()\n",
    "\n",
    "img_train_df = pd.DataFrame(anns_train['images'])\n",
    "for fname in tqdm(img_train_df[\"file_name\"].unique()):\n",
    "    src = os.path.join(src_dir, fname)\n",
    "    dst = os.path.join(os.path.dirname(train), fname)\n",
    "    shutil.copy(src, dst)"
   ]
  },
  {
   "cell_type": "code",
   "execution_count": 10,
   "id": "fec3d110-fac1-43c9-ada6-423d866ff392",
   "metadata": {},
   "outputs": [
    {
     "data": {
      "text/plain": [
       "2    0.466339\n",
       "3    0.258015\n",
       "4    0.174431\n",
       "1    0.101216\n",
       "Name: category_id, dtype: float64"
      ]
     },
     "execution_count": 10,
     "metadata": {},
     "output_type": "execute_result"
    }
   ],
   "source": [
    "anns_train_df = pd.DataFrame(anns_train['annotations'])\n",
    "anns_train_df[\"category_id\"].value_counts(normalize=True)"
   ]
  },
  {
   "cell_type": "code",
   "execution_count": 12,
   "id": "87daf7c1-1287-4632-beed-8626fc1c243e",
   "metadata": {},
   "outputs": [
    {
     "data": {
      "application/vnd.jupyter.widget-view+json": {
       "model_id": "8696ebfd5cfa4868b2d2ebb4474501cd",
       "version_major": 2,
       "version_minor": 0
      },
      "text/plain": [
       "  0%|          | 0/20958 [00:00<?, ?it/s]"
      ]
     },
     "metadata": {},
     "output_type": "display_data"
    }
   ],
   "source": [
    "with open(test, 'rt', encoding='UTF-8') as f:\n",
    "    anns_test = json.load(f)\n",
    "f.close()\n",
    "\n",
    "img_test_df = pd.DataFrame(anns_test['images'])\n",
    "for fname in tqdm(img_test_df[\"file_name\"].unique()):\n",
    "    src = os.path.join(src_dir, fname)\n",
    "    dst = os.path.join(os.path.dirname(test), fname)\n",
    "    shutil.copy(src, dst)"
   ]
  },
  {
   "cell_type": "code",
   "execution_count": 13,
   "id": "09743cb6-66ab-4f03-afca-179704e3750b",
   "metadata": {},
   "outputs": [
    {
     "data": {
      "text/plain": [
       "2    0.608963\n",
       "1    0.191699\n",
       "4    0.107759\n",
       "3    0.091579\n",
       "Name: category_id, dtype: float64"
      ]
     },
     "execution_count": 13,
     "metadata": {},
     "output_type": "execute_result"
    }
   ],
   "source": [
    "anns_test_df = pd.DataFrame(anns_test['annotations'])\n",
    "anns_test_df[\"category_id\"].value_counts(normalize=True)"
   ]
  },
  {
   "cell_type": "code",
   "execution_count": null,
   "id": "fb9fe612-c1d0-49da-a6f2-f8a6203748f7",
   "metadata": {},
   "outputs": [],
   "source": []
  }
 ],
 "metadata": {
  "kernelspec": {
   "display_name": "Python 3 (ipykernel)",
   "language": "python",
   "name": "python3"
  },
  "language_info": {
   "codemirror_mode": {
    "name": "ipython",
    "version": 3
   },
   "file_extension": ".py",
   "mimetype": "text/x-python",
   "name": "python",
   "nbconvert_exporter": "python",
   "pygments_lexer": "ipython3",
   "version": "3.9.12"
  }
 },
 "nbformat": 4,
 "nbformat_minor": 5
}
