{
 "cells": [
  {
   "cell_type": "code",
   "execution_count": 1,
   "id": "344701f0-87a0-4798-85f6-5fa128a1562d",
   "metadata": {},
   "outputs": [],
   "source": [
    "# !pip install funcy\n",
    "# !pip install scikit-multilearn\n",
    "\n",
    "# source: https://github.com/akarazniewicz/cocosplit"
   ]
  },
  {
   "cell_type": "code",
   "execution_count": 2,
   "id": "9d66695b-629a-43ce-8567-96e8ba36662e",
   "metadata": {},
   "outputs": [
    {
     "name": "stderr",
     "output_type": "stream",
     "text": [
      "/Users/ejowik001/opt/anaconda3/lib/python3.9/site-packages/scipy/__init__.py:146: UserWarning: A NumPy version >=1.16.5 and <1.23.0 is required for this version of SciPy (detected version 1.23.5\n",
      "  warnings.warn(f\"A NumPy version >={np_minversion} and <{np_maxversion}\"\n"
     ]
    }
   ],
   "source": [
    "import os\n",
    "import json\n",
    "import shutil\n",
    "import argparse\n",
    "import funcy\n",
    "from sklearn.model_selection import train_test_split\n",
    "from skmultilearn.model_selection import iterative_train_test_split\n",
    "import numpy as np\n",
    "import pandas as pd\n",
    "from tqdm.notebook import tqdm"
   ]
  },
  {
   "cell_type": "code",
   "execution_count": 3,
   "id": "9034e72d-9af8-4ac0-8d55-be0019fdfd9a",
   "metadata": {},
   "outputs": [],
   "source": [
    "def save_coco(file, info, licenses, images, annotations, categories):\n",
    "    with open(file, 'wt', encoding='UTF-8') as coco:\n",
    "        json.dump({ 'info': info, 'licenses': licenses, 'images': images, \n",
    "            'annotations': annotations, 'categories': categories}, coco, indent=2, sort_keys=True)\n",
    "\n",
    "def filter_annotations(annotations, images):\n",
    "    image_ids = funcy.lmap(lambda i: int(i['id']), images)\n",
    "    return funcy.lfilter(lambda a: int(a['image_id']) in image_ids, annotations)\n",
    "\n",
    "\n",
    "def filter_images(images, annotations):\n",
    "    annotation_ids = funcy.lmap(lambda i: int(i['image_id']), annotations)\n",
    "    return funcy.lfilter(lambda a: int(a['id']) in annotation_ids, images)"
   ]
  },
  {
   "cell_type": "code",
   "execution_count": 4,
   "id": "9bf9f903-be60-484e-8ff4-48dab51acb6b",
   "metadata": {},
   "outputs": [],
   "source": [
    "annotations = \"./ppes-custom-dataset/all/_annotations.coco.json\"  # path to COCO annotations file\n",
    "train = \"./ppes-custom-dataset/train/_annotations.coco.json\"  # here to store COCO training annotations\n",
    "test = \"./ppes-custom-dataset/valid/_annotations.coco.json\"  # here to store COCO training annotations\n",
    "train_ratio = 0.8  # a percentage of a split; a number in (0, 1)\n",
    "multi_class = True  # split a multi-class dataset while preserving class distributions in train and test sets\n",
    "\n",
    "src_dir = \"./ppes-custom-dataset/all/\"  # directory with all images"
   ]
  },
  {
   "cell_type": "code",
   "execution_count": 5,
   "id": "dcabed31-8961-4a3d-a270-eaf4d87291e1",
   "metadata": {},
   "outputs": [
    {
     "data": {
      "text/html": [
       "<div>\n",
       "<style scoped>\n",
       "    .dataframe tbody tr th:only-of-type {\n",
       "        vertical-align: middle;\n",
       "    }\n",
       "\n",
       "    .dataframe tbody tr th {\n",
       "        vertical-align: top;\n",
       "    }\n",
       "\n",
       "    .dataframe thead th {\n",
       "        text-align: right;\n",
       "    }\n",
       "</style>\n",
       "<table border=\"1\" class=\"dataframe\">\n",
       "  <thead>\n",
       "    <tr style=\"text-align: right;\">\n",
       "      <th></th>\n",
       "      <th>count</th>\n",
       "      <th>priority</th>\n",
       "    </tr>\n",
       "    <tr>\n",
       "      <th>category_id</th>\n",
       "      <th></th>\n",
       "      <th></th>\n",
       "    </tr>\n",
       "  </thead>\n",
       "  <tbody>\n",
       "    <tr>\n",
       "      <th>2</th>\n",
       "      <td>90377</td>\n",
       "      <td>3</td>\n",
       "    </tr>\n",
       "    <tr>\n",
       "      <th>3</th>\n",
       "      <td>41042</td>\n",
       "      <td>2</td>\n",
       "    </tr>\n",
       "    <tr>\n",
       "      <th>4</th>\n",
       "      <td>29421</td>\n",
       "      <td>1</td>\n",
       "    </tr>\n",
       "    <tr>\n",
       "      <th>1</th>\n",
       "      <td>21790</td>\n",
       "      <td>0</td>\n",
       "    </tr>\n",
       "  </tbody>\n",
       "</table>\n",
       "</div>"
      ],
      "text/plain": [
       "             count  priority\n",
       "category_id                 \n",
       "2            90377         3\n",
       "3            41042         2\n",
       "4            29421         1\n",
       "1            21790         0"
      ]
     },
     "metadata": {},
     "output_type": "display_data"
    },
    {
     "name": "stdout",
     "output_type": "stream",
     "text": [
      "{2: 3, 3: 2, 4: 1, 1: 0}\n"
     ]
    }
   ],
   "source": [
    "with open(annotations, 'rt', encoding='UTF-8') as annotations:\n",
    "    coco = json.load(annotations)\n",
    "    info = coco['info']\n",
    "    licenses = coco['licenses']\n",
    "    images = coco['images']\n",
    "    annotations = coco['annotations']\n",
    "    categories = coco['categories']\n",
    "    \n",
    "    \n",
    "    # checking the number of boxes of individual classes and setting priorities\n",
    "    dist = pd.DataFrame(annotations)[['category_id']].value_counts()\n",
    "    dist_df = dist.to_frame().rename(columns={0: \"count\"})\n",
    "    dist_df[\"priority\"] = np.argsort(dist_df[\"count\"].values)\n",
    "    display(dist_df)\n",
    "\n",
    "    # creating a dictionary, in which the key is the id of the category and the value is priority\n",
    "    label_prio = {}\n",
    "    for idx, _, priority in dist_df.itertuples():\n",
    "        label_prio[idx[0]] = priority\n",
    "\n",
    "\n",
    "    print(label_prio)\n",
    "\n",
    "    # adding column with priorities\n",
    "    annot_df = pd.DataFrame(annotations)\n",
    "    annot_df['__prio'] = annot_df['category_id'].replace(label_prio)\n",
    "    # getting rid of many-to-many relationships - exactly 1 assignment to a category is kept for each image according to priorities\n",
    "    prio_annot_df = annot_df.loc[annot_df.sort_values(by=['image_id', '__prio'])[['image_id']].drop_duplicates(keep='first').index][['image_id', 'category_id']]\n",
    "\n",
    "    assert prio_annot_df.shape[0] == annot_df.drop_duplicates(subset=[\"image_id\"]).shape[0]\n",
    "\n",
    "    # split images and annotations into train & test subsets\n",
    "    img_all, cat_all = prio_annot_df[['image_id']], prio_annot_df[['category_id']]\n",
    "    img_train, img_test, cat_train, cat_test = train_test_split(img_all, cat_all, stratify=cat_all, test_size=1-train_ratio)\n",
    "    \n",
    "    annot_df = pd.DataFrame(annotations)\n",
    "    annot_train_df = annot_df.loc[annot_df[\"image_id\"].isin(img_train['image_id'].values)]\n",
    "    annot_test_df = annot_df.loc[annot_df[\"image_id\"].isin(img_test['image_id'].values)]\n",
    "\n",
    "    img_df = pd.DataFrame(images)\n",
    "    img_train_df = img_df.loc[img_df[\"id\"].isin(img_train['image_id'].values)]\n",
    "    img_test_df = img_df.loc[img_df[\"id\"].isin(img_test['image_id'].values)]\n",
    "\n",
    "    # assert that the intersection is empty\n",
    "    assert len(set(annot_train_df.image_id).intersection(set(annot_test_df.image_id))) == 0\n",
    "    assert len(set(img_train_df.id).intersection(set(img_test_df.id))) == 0\n",
    "\n",
    "        \n",
    "    # save as coco files\n",
    "    anns_train = annot_train_df.to_dict('records')\n",
    "    anns_test = annot_test_df.to_dict('records')\n",
    "    imgs_train = img_train_df.to_dict('records')\n",
    "    imgs_test = img_test_df.to_dict('records')\n",
    "    \n",
    "    save_coco(train, info, licenses, imgs_train, anns_train, categories)\n",
    "    save_coco(test, info, licenses,  imgs_test, anns_test, categories)"
   ]
  },
  {
   "cell_type": "code",
   "execution_count": 6,
   "id": "a0942054-1fee-4d42-a933-a19cf8f180a3",
   "metadata": {},
   "outputs": [
    {
     "name": "stdout",
     "output_type": "stream",
     "text": [
      "Train size: 146235, test size: 36395\n"
     ]
    }
   ],
   "source": [
    "print(f\"Train size: {annot_train_df.shape[0]}, test size: {annot_test_df.shape[0]}\")"
   ]
  },
  {
   "cell_type": "code",
   "execution_count": 7,
   "id": "c1426872-01a8-4840-92c1-3859aae21705",
   "metadata": {},
   "outputs": [
    {
     "data": {
      "text/plain": [
       "2    0.494847\n",
       "3    0.225227\n",
       "4    0.161124\n",
       "1    0.118802\n",
       "Name: category_id, dtype: float64"
      ]
     },
     "execution_count": 7,
     "metadata": {},
     "output_type": "execute_result"
    }
   ],
   "source": [
    "annot_train_df[\"category_id\"].value_counts(normalize=True)"
   ]
  },
  {
   "cell_type": "code",
   "execution_count": 8,
   "id": "e90b94c5-6ac9-4704-a9a6-b62800cf6cd5",
   "metadata": {},
   "outputs": [
    {
     "data": {
      "text/plain": [
       "2    0.494931\n",
       "3    0.222723\n",
       "4    0.160984\n",
       "1    0.121363\n",
       "Name: category_id, dtype: float64"
      ]
     },
     "execution_count": 8,
     "metadata": {},
     "output_type": "execute_result"
    }
   ],
   "source": [
    "annot_test_df[\"category_id\"].value_counts(normalize=True)"
   ]
  },
  {
   "cell_type": "code",
   "execution_count": 9,
   "id": "e55f44e4-1889-41b6-a5eb-3bda3f27e93e",
   "metadata": {},
   "outputs": [
    {
     "data": {
      "application/vnd.jupyter.widget-view+json": {
       "model_id": "224dcad9a9d54bfc85a926a6a2ef44ce",
       "version_major": 2,
       "version_minor": 0
      },
      "text/plain": [
       "  0%|          | 0/31895 [00:00<?, ?it/s]"
      ]
     },
     "metadata": {},
     "output_type": "display_data"
    }
   ],
   "source": [
    "# copy images between locations (from all/ subdirectory to train/ and valid/ respectively)\n",
    "with open(train, 'rt', encoding='UTF-8') as f:\n",
    "    anns_train = json.load(f)\n",
    "f.close()\n",
    "\n",
    "img_train_df = pd.DataFrame(anns_train['images'])\n",
    "for fname in tqdm(img_train_df[\"file_name\"].unique()):\n",
    "    src = os.path.join(src_dir, fname)\n",
    "    dst = os.path.join(os.path.dirname(train), fname)\n",
    "    shutil.copy(src, dst)"
   ]
  },
  {
   "cell_type": "code",
   "execution_count": 10,
   "id": "87daf7c1-1287-4632-beed-8626fc1c243e",
   "metadata": {},
   "outputs": [
    {
     "data": {
      "application/vnd.jupyter.widget-view+json": {
       "model_id": "bf5f1d39acf3475f801882b85e3a34c1",
       "version_major": 2,
       "version_minor": 0
      },
      "text/plain": [
       "  0%|          | 0/7923 [00:00<?, ?it/s]"
      ]
     },
     "metadata": {},
     "output_type": "display_data"
    }
   ],
   "source": [
    "with open(test, 'rt', encoding='UTF-8') as f:\n",
    "    anns_test = json.load(f)\n",
    "f.close()\n",
    "\n",
    "img_test_df = pd.DataFrame(anns_test['images'])\n",
    "for fname in tqdm(img_test_df[\"file_name\"].unique()):\n",
    "    src = os.path.join(src_dir, fname)\n",
    "    dst = os.path.join(os.path.dirname(test), fname)\n",
    "    shutil.copy(src, dst)"
   ]
  },
  {
   "cell_type": "code",
   "execution_count": null,
   "id": "fb9fe612-c1d0-49da-a6f2-f8a6203748f7",
   "metadata": {},
   "outputs": [],
   "source": []
  }
 ],
 "metadata": {
  "kernelspec": {
   "display_name": "Python 3 (ipykernel)",
   "language": "python",
   "name": "python3"
  },
  "language_info": {
   "codemirror_mode": {
    "name": "ipython",
    "version": 3
   },
   "file_extension": ".py",
   "mimetype": "text/x-python",
   "name": "python",
   "nbconvert_exporter": "python",
   "pygments_lexer": "ipython3",
   "version": "3.9.12"
  }
 },
 "nbformat": 4,
 "nbformat_minor": 5
}
