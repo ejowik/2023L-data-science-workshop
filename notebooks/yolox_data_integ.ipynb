{
 "cells": [
  {
   "cell_type": "code",
   "execution_count": 1,
   "id": "11ac7d9b-23f0-4589-938d-b59b8292ece3",
   "metadata": {},
   "outputs": [],
   "source": [
    "import os\n",
    "import json\n",
    "import shutil\n",
    "import numpy as np\n",
    "import pandas as pd\n",
    "from tqdm.notebook import tqdm\n",
    "\n",
    "import warnings\n",
    "warnings.filterwarnings(\"ignore\")"
   ]
  },
  {
   "cell_type": "code",
   "execution_count": 2,
   "id": "7fce1ef0-dacc-4ed6-b590-457d2d741bf2",
   "metadata": {},
   "outputs": [],
   "source": [
    "def extract_categories(annot_fpath, categories):\n",
    "    f = open(annot_fpath)\n",
    "    body = json.load(f)\n",
    "\n",
    "    # iterate over all categories in the dataset and get\n",
    "    # detailed info of the those listed in cat_names\n",
    "    cat_id = []\n",
    "    cat_subset = []\n",
    "    for c in body[\"categories\"]:\n",
    "        if c[\"name\"] in categories:\n",
    "            cat_id.append(c[\"id\"])\n",
    "            cat_subset.append(c)\n",
    "\n",
    "    # iterate over all annotations in the dataset \n",
    "    # and get images and annotations for the categories\n",
    "    # of interest\n",
    "    annot_subset = []\n",
    "    img_id_list = []\n",
    "    for annot in tqdm(body[\"annotations\"]):\n",
    "        if annot['category_id'] in cat_id:\n",
    "            annot_subset.append(annot)\n",
    "            img_id_list.append(annot[\"image_id\"])\n",
    "\n",
    "    img_id_list = list(np.unique(img_id_list))\n",
    "\n",
    "    # iterate over all images in the dataset \n",
    "    # and get images labeled with categories\n",
    "    # of interest\n",
    "    img_subset = []\n",
    "    for img in body[\"images\"]:\n",
    "        if img[\"id\"] in img_id_list:\n",
    "            img_subset.append(img)\n",
    "    return cat_subset, annot_subset, img_subset"
   ]
  },
  {
   "cell_type": "code",
   "execution_count": 3,
   "id": "983dde72-328b-4c63-91d2-abe5c09d4224",
   "metadata": {},
   "outputs": [],
   "source": [
    "# consistent categories\n",
    "cat_dict = {\n",
    "    'helmet': 'helmet',\n",
    "    'Helmet': 'helmet',\n",
    "    'head_helmet': 'helmet',\n",
    "    'Hardhat': 'helmet',\n",
    "    \n",
    "    'head_nohelmet': 'head_nohelmet',\n",
    "    'head': 'head_nohelmet',\n",
    "    'NO-Hardhat': 'head_nohelmet',\n",
    "    'Head': 'head_nohelmet',\n",
    "\n",
    "    'vest': 'vest',\n",
    "    'Vest': 'vest',\n",
    "    'Safety Vest': 'vest',\n",
    "    \n",
    "    # 'NO-Safety Vest': 'no_vest',\n",
    "    # 'chest': 'no_vest',\n",
    "    \n",
    "    'Person': 'person',\n",
    "    'person': 'person',\n",
    "}\n",
    "\n",
    "id_dict = {\n",
    "    'head_nohelmet': 1,\n",
    "    'helmet': 2,\n",
    "    'person': 3,\n",
    "    'vest': 4,\n",
    "    # 'no_vest': 5\n",
    "}"
   ]
  },
  {
   "cell_type": "code",
   "execution_count": 4,
   "id": "65700e0f-b2d5-4b33-ae30-0fc98c8f30fa",
   "metadata": {},
   "outputs": [],
   "source": [
    "# ppe_v3\n",
    "in_fpath1 = \"ppe_v3/ppe_v3.v5i.coco/train/_annotations.coco.json\"\n",
    "\n",
    "# ppe8-0mhax\n",
    "in_fpath2 = \"ppe8-0mhax/ppe8.v1-raw.coco/train/_annotations.coco.json\"\n",
    "in_fpath3 = \"ppe8-0mhax/ppe8.v1-raw.coco/valid/_annotations.coco.json\"\n",
    "\n",
    "# personal-protective-equipment-combined-model\n",
    "in_fpath4 = \"personal-protective-equipment-combined-model/Personal Protective Equipment - Combined Model.v4-resize640_allclasses_noaugs.coco/train/_annotations.coco.json\"\n",
    "in_fpath5 = \"personal-protective-equipment-combined-model/Personal Protective Equipment - Combined Model.v4-resize640_allclasses_noaugs.coco/valid/_annotations.coco.json\"\n",
    "in_fpath6 = \"personal-protective-equipment-combined-model/Personal Protective Equipment - Combined Model.v4-resize640_allclasses_noaugs.coco/test/_annotations.coco.json\"\n",
    "\n",
    "# Construction PPEs Computer Vision Project\n",
    "in_fpath7 = \"construction-ppes/Construction PPEs.v6i.coco/train/_annotations.coco.json\"\n",
    "in_fpath8 = \"construction-ppes/Construction PPEs.v6i.coco/valid/_annotations.coco.json\"\n",
    "in_fpath9 = \"construction-ppes/Construction PPEs.v6i.coco/test/_annotations.coco.json\"\n",
    "\n",
    "# Hard Hat Workers\n",
    "hhw_fpath1 = \"hard-hat-workers/Hard Hat Workers.v2-raw.coco/train/_annotations.coco.json\"\n",
    "hhw_fpath2 = \"hard-hat-workers/Hard Hat Workers.v2-raw.coco/test/_annotations.coco.json\""
   ]
  },
  {
   "cell_type": "code",
   "execution_count": 5,
   "id": "3d691112-1073-4490-818e-173c0de4ac98",
   "metadata": {},
   "outputs": [],
   "source": [
    "# ppe_v3, ppe8-0mhax\n",
    "cat_names1 = [\n",
    "    'head_helmet',\n",
    "    'head_nohelmet',\n",
    "    'person',\n",
    "    'vest'\n",
    "]\n",
    "\n",
    "\n",
    "# personal-protective-equipment-combined-model\n",
    "cat_names2 = [\n",
    "    \"Hardhat\",\n",
    "    \"NO-Hardhat\",\n",
    "    # \"NO-Safety Vest\",\n",
    "    \"Person\",\n",
    "    \"Safety Vest\"\n",
    "]\n",
    "\n",
    "# Construction PPEs Computer Vision Project\n",
    "cat_names3 = [\n",
    "    \"Helmet\",\n",
    "    \"Person\",\n",
    "    \"Vest\",\n",
    "    # \"chest\",\n",
    "    \"head\"\n",
    "]\n",
    "\n",
    "# Hard Hat Workers\n",
    "cat_names5 = ['head', 'helmet', 'person']"
   ]
  },
  {
   "cell_type": "markdown",
   "id": "175e124c-ba23-4033-a686-bc670efc987b",
   "metadata": {},
   "source": [
    "## Execution section"
   ]
  },
  {
   "cell_type": "code",
   "execution_count": 6,
   "id": "c3e98169-5a0d-47bf-9dc8-223d80aa3eb1",
   "metadata": {},
   "outputs": [
    {
     "data": {
      "application/vnd.jupyter.widget-view+json": {
       "model_id": "871746c305384a0685a544174e44aa27",
       "version_major": 2,
       "version_minor": 0
      },
      "text/plain": [
       "  0%|          | 0/19660 [00:00<?, ?it/s]"
      ]
     },
     "metadata": {},
     "output_type": "display_data"
    },
    {
     "data": {
      "application/vnd.jupyter.widget-view+json": {
       "model_id": "96b44c32c23e4f4289f39fd68541fe9e",
       "version_major": 2,
       "version_minor": 0
      },
      "text/plain": [
       "  0%|          | 0/869 [00:00<?, ?it/s]"
      ]
     },
     "metadata": {},
     "output_type": "display_data"
    },
    {
     "data": {
      "application/vnd.jupyter.widget-view+json": {
       "model_id": "2ac83047029a4aa29b946f20d8684d84",
       "version_major": 2,
       "version_minor": 0
      },
      "text/plain": [
       "  0%|          | 0/426 [00:00<?, ?it/s]"
      ]
     },
     "metadata": {},
     "output_type": "display_data"
    },
    {
     "data": {
      "application/vnd.jupyter.widget-view+json": {
       "model_id": "f49dfd5d456a42698f5b8082f1f40c96",
       "version_major": 2,
       "version_minor": 0
      },
      "text/plain": [
       "  0%|          | 0/76398 [00:00<?, ?it/s]"
      ]
     },
     "metadata": {},
     "output_type": "display_data"
    },
    {
     "data": {
      "application/vnd.jupyter.widget-view+json": {
       "model_id": "1555a56b8ea449f9a10499f8ec639b18",
       "version_major": 2,
       "version_minor": 0
      },
      "text/plain": [
       "  0%|          | 0/22077 [00:00<?, ?it/s]"
      ]
     },
     "metadata": {},
     "output_type": "display_data"
    },
    {
     "data": {
      "application/vnd.jupyter.widget-view+json": {
       "model_id": "f7eac68db4ff4706b0276c883aebac76",
       "version_major": 2,
       "version_minor": 0
      },
      "text/plain": [
       "  0%|          | 0/11086 [00:00<?, ?it/s]"
      ]
     },
     "metadata": {},
     "output_type": "display_data"
    },
    {
     "data": {
      "application/vnd.jupyter.widget-view+json": {
       "model_id": "5cc301c7bcb8436a9c22d5208a5737c9",
       "version_major": 2,
       "version_minor": 0
      },
      "text/plain": [
       "  0%|          | 0/92136 [00:00<?, ?it/s]"
      ]
     },
     "metadata": {},
     "output_type": "display_data"
    },
    {
     "data": {
      "application/vnd.jupyter.widget-view+json": {
       "model_id": "719e7b6dc54c46de8437d366ae902e58",
       "version_major": 2,
       "version_minor": 0
      },
      "text/plain": [
       "  0%|          | 0/25727 [00:00<?, ?it/s]"
      ]
     },
     "metadata": {},
     "output_type": "display_data"
    },
    {
     "data": {
      "application/vnd.jupyter.widget-view+json": {
       "model_id": "424ed8cfc9484951902c5447a2893d00",
       "version_major": 2,
       "version_minor": 0
      },
      "text/plain": [
       "  0%|          | 0/13647 [00:00<?, ?it/s]"
      ]
     },
     "metadata": {},
     "output_type": "display_data"
    },
    {
     "data": {
      "application/vnd.jupyter.widget-view+json": {
       "model_id": "c6b4bd62cf4c4c5693ee7b1793b3cc1c",
       "version_major": 2,
       "version_minor": 0
      },
      "text/plain": [
       "  0%|          | 0/20231 [00:00<?, ?it/s]"
      ]
     },
     "metadata": {},
     "output_type": "display_data"
    },
    {
     "data": {
      "application/vnd.jupyter.widget-view+json": {
       "model_id": "68b03cab80244ec1ad01b8f3b37fa891",
       "version_major": 2,
       "version_minor": 0
      },
      "text/plain": [
       "  0%|          | 0/6808 [00:00<?, ?it/s]"
      ]
     },
     "metadata": {},
     "output_type": "display_data"
    }
   ],
   "source": [
    "# extract original annotations and images from the categories listed in cat_names1, cat_names2 or cat_names3\n",
    "ppev3_cat, ppev3_annot, ppev3_img = extract_categories(annot_fpath=in_fpath1, categories=cat_names1)\n",
    "\n",
    "ppe8_cat, ppe8_annot1, ppe8_img1 = extract_categories(annot_fpath=in_fpath2, categories=cat_names1)\n",
    "_, ppe8_annot2, ppe8_img2 = extract_categories(annot_fpath=in_fpath3, categories=cat_names1)\n",
    "\n",
    "ppecm_cat, ppecm_annot1, ppecm_img1 = extract_categories(annot_fpath=in_fpath4, categories=cat_names2)\n",
    "_, ppecm_annot2, ppecm_img2 = extract_categories(annot_fpath=in_fpath5, categories=cat_names2)\n",
    "_, ppecm_annot3, ppecm_img3 = extract_categories(annot_fpath=in_fpath6, categories=cat_names2)\n",
    "\n",
    "cppecvp_cat, cppecvp_annot1, cppecvp_img1 = extract_categories(annot_fpath=in_fpath7, categories=cat_names3)\n",
    "_, cppecvp_annot2, cppecvp_img2 = extract_categories(annot_fpath=in_fpath8, categories=cat_names3)\n",
    "_, cppecvp_annot3, cppecvp_img3 = extract_categories(annot_fpath=in_fpath9, categories=cat_names3)\n",
    "\n",
    "hhw_cat, hhw_annot1, hhw_img1 = extract_categories(annot_fpath=hhw_fpath1, categories=cat_names5)\n",
    "_, hhw_annot2, hhw_img2 = extract_categories(annot_fpath=hhw_fpath2, categories=cat_names5)"
   ]
  },
  {
   "cell_type": "code",
   "execution_count": 7,
   "id": "e3d555b7-7ae9-4b87-b33a-6909eaeb700c",
   "metadata": {},
   "outputs": [
    {
     "data": {
      "application/vnd.jupyter.widget-view+json": {
       "model_id": "31e5c15db624408ea34c4a59d588366e",
       "version_major": 2,
       "version_minor": 0
      },
      "text/plain": [
       "  0%|          | 0/5 [00:00<?, ?it/s]"
      ]
     },
     "metadata": {},
     "output_type": "display_data"
    },
    {
     "data": {
      "application/vnd.jupyter.widget-view+json": {
       "model_id": "d7ba33ca7f4d44cabba663a70065de4a",
       "version_major": 2,
       "version_minor": 0
      },
      "text/plain": [
       "  0%|          | 0/2064 [00:00<?, ?it/s]"
      ]
     },
     "metadata": {},
     "output_type": "display_data"
    },
    {
     "data": {
      "application/vnd.jupyter.widget-view+json": {
       "model_id": "5af6c198ad874945aa6c38d50640cd81",
       "version_major": 2,
       "version_minor": 0
      },
      "text/plain": [
       "  0%|          | 0/73 [00:00<?, ?it/s]"
      ]
     },
     "metadata": {},
     "output_type": "display_data"
    },
    {
     "data": {
      "application/vnd.jupyter.widget-view+json": {
       "model_id": "8edf596e15c34808acd5096591ae6653",
       "version_major": 2,
       "version_minor": 0
      },
      "text/plain": [
       "  0%|          | 0/19078 [00:00<?, ?it/s]"
      ]
     },
     "metadata": {},
     "output_type": "display_data"
    },
    {
     "data": {
      "application/vnd.jupyter.widget-view+json": {
       "model_id": "2d8f785324b0495fb8480fa3b7d193dc",
       "version_major": 2,
       "version_minor": 0
      },
      "text/plain": [
       "  0%|          | 0/5404 [00:00<?, ?it/s]"
      ]
     },
     "metadata": {},
     "output_type": "display_data"
    },
    {
     "data": {
      "application/vnd.jupyter.widget-view+json": {
       "model_id": "2215a8f5307c48318d37d98dc30bc3b5",
       "version_major": 2,
       "version_minor": 0
      },
      "text/plain": [
       "  0%|          | 0/5269 [00:00<?, ?it/s]"
      ]
     },
     "metadata": {},
     "output_type": "display_data"
    }
   ],
   "source": [
    "# assigning new IDs to photos\n",
    "\n",
    "ppev3_img_df = pd.DataFrame(ppev3_img)\n",
    "\n",
    "ppe8_img = ppe8_img1 + ppe8_img2\n",
    "ppe8_img_df = pd.DataFrame(ppe8_img)\n",
    "\n",
    "ppecm_img = ppecm_img1 + ppecm_img2 + ppecm_img3\n",
    "ppecm_img_df = pd.DataFrame(ppecm_img)\n",
    "\n",
    "cppecvp_img = cppecvp_img1 + cppecvp_img2 + cppecvp_img3\n",
    "cppecvp_img_df = pd.DataFrame(cppecvp_img)\n",
    "\n",
    "hhw_img = hhw_img1 + hhw_img2\n",
    "hhw_img_df = pd.DataFrame(hhw_img)\n",
    "\n",
    "ppev3_img_df[\"dataset\"] = \"ppe_v3\"\n",
    "ppe8_img_df[\"dataset\"] = \"ppe8-0mhax\"\n",
    "ppecm_img_df[\"dataset\"] = \"personal-protective-equipment-combined-model\"\n",
    "cppecvp_img_df[\"dataset\"] = \"construction-ppes\"\n",
    "hhw_img_df[\"dataset\"] = \"hard-hat-workers\"\n",
    "\n",
    "orig_img_df = pd.concat([\n",
    "    ppev3_img_df, ppe8_img_df, ppecm_img_df, cppecvp_img_df, hhw_img_df\n",
    "]).reset_index(drop=True).rename(columns={\"id\": \"orig_id\"})\n",
    "\n",
    "\n",
    "new_id = 0\n",
    "img_df = pd.DataFrame()\n",
    "for dataset in tqdm(orig_img_df[\"dataset\"].unique()):\n",
    "    for orig_id in tqdm(orig_img_df.loc[orig_img_df[\"dataset\"]==dataset][\"orig_id\"].unique()):\n",
    "        tmp = orig_img_df.loc[(orig_img_df[\"dataset\"]==dataset) & (orig_img_df[\"orig_id\"]==orig_id)]\n",
    "        tmp[\"id\"] = new_id\n",
    "        img_df = pd.concat([img_df, tmp])\n",
    "        \n",
    "        new_id += 1"
   ]
  },
  {
   "cell_type": "code",
   "execution_count": 8,
   "id": "7dbe5452-115d-413a-b079-01e69ccabc13",
   "metadata": {},
   "outputs": [
    {
     "data": {
      "application/vnd.jupyter.widget-view+json": {
       "model_id": "c080dd7249be4e9da2b885617499f479",
       "version_major": 2,
       "version_minor": 0
      },
      "text/plain": [
       "  0%|          | 0/5 [00:00<?, ?it/s]"
      ]
     },
     "metadata": {},
     "output_type": "display_data"
    },
    {
     "data": {
      "application/vnd.jupyter.widget-view+json": {
       "model_id": "a0a29ea06be54ce7bcef640963ca21d4",
       "version_major": 2,
       "version_minor": 0
      },
      "text/plain": [
       "  0%|          | 0/11869 [00:00<?, ?it/s]"
      ]
     },
     "metadata": {},
     "output_type": "display_data"
    },
    {
     "data": {
      "application/vnd.jupyter.widget-view+json": {
       "model_id": "c69ea04ba36c41f89d4a58ec9bf6673b",
       "version_major": 2,
       "version_minor": 0
      },
      "text/plain": [
       "  0%|          | 0/517 [00:00<?, ?it/s]"
      ]
     },
     "metadata": {},
     "output_type": "display_data"
    },
    {
     "data": {
      "application/vnd.jupyter.widget-view+json": {
       "model_id": "23c3c1d838d64900b1c66c6d2905ad42",
       "version_major": 2,
       "version_minor": 0
      },
      "text/plain": [
       "  0%|          | 0/50739 [00:00<?, ?it/s]"
      ]
     },
     "metadata": {},
     "output_type": "display_data"
    },
    {
     "data": {
      "application/vnd.jupyter.widget-view+json": {
       "model_id": "ec087d686ef84f9686d2682b5d5e192b",
       "version_major": 2,
       "version_minor": 0
      },
      "text/plain": [
       "  0%|          | 0/62809 [00:00<?, ?it/s]"
      ]
     },
     "metadata": {},
     "output_type": "display_data"
    },
    {
     "data": {
      "application/vnd.jupyter.widget-view+json": {
       "model_id": "fadf28cfda1a4a2fb86b1ba61f0fb05b",
       "version_major": 2,
       "version_minor": 0
      },
      "text/plain": [
       "  0%|          | 0/20231 [00:00<?, ?it/s]"
      ]
     },
     "metadata": {},
     "output_type": "display_data"
    }
   ],
   "source": [
    "# assigning new IDs to annotations\n",
    "\n",
    "ppev3_annot_df = pd.DataFrame(ppev3_annot)\n",
    "\n",
    "ppe8_annot = ppe8_annot1 + ppe8_annot2\n",
    "ppe8_annot_df = pd.DataFrame(ppe8_annot)\n",
    "\n",
    "ppecm_annot = ppecm_annot1 + ppecm_annot2 + ppecm_annot3\n",
    "ppecm_annot_df = pd.DataFrame(ppecm_annot)\n",
    "\n",
    "cppecvp_annot = cppecvp_annot1 + cppecvp_annot2 + cppecvp_annot3\n",
    "cppecvp_annot_df = pd.DataFrame(cppecvp_annot)\n",
    "\n",
    "hhw_annot = hhw_annot1 + hhw_annot2\n",
    "hhw_annot_df = pd.DataFrame(hhw_annot)\n",
    "\n",
    "ppev3_annot_df[\"dataset\"] = \"ppe_v3\"\n",
    "ppe8_annot_df[\"dataset\"] = \"ppe8-0mhax\"\n",
    "ppecm_annot_df[\"dataset\"] = \"personal-protective-equipment-combined-model\"\n",
    "cppecvp_annot_df[\"dataset\"] = \"construction-ppes\"\n",
    "hhw_annot_df[\"dataset\"] = \"hard-hat-workers\"\n",
    "\n",
    "orig_annot_df = pd.concat([\n",
    "    ppev3_annot_df, ppe8_annot_df, ppecm_annot_df, cppecvp_annot_df, hhw_annot_df\n",
    "]).reset_index(drop=True).rename(columns={\"id\": \"orig_id\"})\n",
    "\n",
    "\n",
    "new_id = 0\n",
    "annot_df = pd.DataFrame()\n",
    "for dataset in tqdm(orig_annot_df[\"dataset\"].unique()):\n",
    "    for orig_id in tqdm(orig_annot_df.loc[orig_annot_df[\"dataset\"]==dataset][\"orig_id\"].unique()):\n",
    "        tmp = orig_annot_df.loc[(orig_annot_df[\"dataset\"]==dataset) & (orig_annot_df[\"orig_id\"]==orig_id)]\n",
    "        tmp[\"id\"] = new_id\n",
    "        annot_df = pd.concat([annot_df, tmp])\n",
    "        \n",
    "        new_id += 1"
   ]
  },
  {
   "cell_type": "code",
   "execution_count": 9,
   "id": "8157ba10-30d1-4cf8-ab1f-908371f29dc6",
   "metadata": {},
   "outputs": [
    {
     "data": {
      "application/vnd.jupyter.widget-view+json": {
       "model_id": "86f75d29d0454456baa5dd3483ba2108",
       "version_major": 2,
       "version_minor": 0
      },
      "text/plain": [
       "  0%|          | 0/5 [00:00<?, ?it/s]"
      ]
     },
     "metadata": {},
     "output_type": "display_data"
    },
    {
     "name": "stdout",
     "output_type": "stream",
     "text": [
      "{8: 'head_helmet', 9: 'head_nohelmet', 10: 'person', 12: 'vest'}\n",
      "{8: 'head_helmet', 9: 'head_nohelmet', 10: 'person', 12: 'vest'}\n",
      "{4: 'Hardhat', 9: 'NO-Hardhat', 12: 'Person', 14: 'Safety Vest'}\n",
      "{3: 'Helmet', 5: 'Person', 8: 'Vest', 12: 'head'}\n",
      "{1: 'head', 2: 'helmet', 3: 'person'}\n"
     ]
    }
   ],
   "source": [
    "# mapping category and photo ids in annotations\n",
    "\n",
    "ppev3_cat_df = pd.DataFrame(ppev3_cat)\n",
    "ppe8_cat_df = pd.DataFrame(ppe8_cat)\n",
    "ppecm_cat_df = pd.DataFrame(ppecm_cat)\n",
    "cppecvp_cat_df = pd.DataFrame(cppecvp_cat)\n",
    "hhw_cat_df = pd.DataFrame(hhw_cat)\n",
    "\n",
    "ppev3_cat_df[\"dataset\"] = \"ppe_v3\"\n",
    "ppe8_cat_df[\"dataset\"] = \"ppe8-0mhax\"\n",
    "ppecm_cat_df[\"dataset\"] = \"personal-protective-equipment-combined-model\"\n",
    "cppecvp_cat_df[\"dataset\"] = \"construction-ppes\"\n",
    "hhw_cat_df[\"dataset\"] = \"hard-hat-workers\"\n",
    "\n",
    "orig_cat_df = pd.concat([\n",
    "    ppev3_cat_df, ppe8_cat_df, ppecm_cat_df, cppecvp_cat_df, hhw_cat_df\n",
    "]).reset_index(drop=True).rename(columns={\"id\": \"orig_id\"})\n",
    "\n",
    "annot_df = pd.DataFrame(annot_df).rename(columns={\"image_id\": \"orig_image_id\", \"category_id\": \"orig_category_id\"})\n",
    "result = pd.DataFrame()\n",
    "\n",
    "for dataset in tqdm(orig_cat_df[\"dataset\"].unique()):\n",
    "    tmp = orig_cat_df.loc[orig_cat_df[\"dataset\"] == dataset]\n",
    "    orig_dict = pd.Series(tmp[\"name\"].values, index=tmp[\"orig_id\"]).to_dict()\n",
    "    print(orig_dict)\n",
    "    \n",
    "    tmp_annot_df = annot_df.loc[annot_df[\"dataset\"] == dataset]\n",
    "    tmp_annot_df[\"orig_category_name\"] = tmp_annot_df[\"orig_category_id\"].replace(orig_dict)\n",
    "\n",
    "    # create and join column with new category name\n",
    "    tmp_annot_df[\"category_name\"] = tmp_annot_df[\"orig_category_name\"].replace(cat_dict)\n",
    "    # create and join column with new category id\n",
    "    tmp_annot_df[\"category_id\"] = tmp_annot_df[\"category_name\"].replace(id_dict)\n",
    "    \n",
    "    res = pd.merge(\n",
    "        tmp_annot_df,\n",
    "        img_df[[\"orig_id\", \"id\", \"dataset\"]].rename(columns={\"orig_id\": \"orig_image_id\", \"id\": \"image_id\"}).drop_duplicates(),\n",
    "        how=\"inner\",\n",
    "        left_on=[\"dataset\", \"orig_image_id\"],\n",
    "        right_on=[\"dataset\", \"orig_image_id\"]\n",
    "    )\n",
    "    \n",
    "    assert tmp_annot_df.shape[0] == res.shape[0]\n",
    "    result = pd.concat([result, res])\n",
    "    \n",
    "assert annot_df.shape[0] == result.shape[0]\n",
    "final_annot_df = result[['id', 'image_id', 'category_id', 'bbox', 'area', 'segmentation', 'iscrowd']]"
   ]
  },
  {
   "cell_type": "code",
   "execution_count": 10,
   "id": "13f44e11-3301-447b-8c87-41fcd02ce742",
   "metadata": {},
   "outputs": [
    {
     "data": {
      "application/vnd.jupyter.widget-view+json": {
       "model_id": "f4b6a117058c49089b6e58807cb024b0",
       "version_major": 2,
       "version_minor": 0
      },
      "text/plain": [
       "  0%|          | 0/5 [00:00<?, ?it/s]"
      ]
     },
     "metadata": {},
     "output_type": "display_data"
    },
    {
     "data": {
      "application/vnd.jupyter.widget-view+json": {
       "model_id": "d365d8f53fff4be3a6680268bae18ee1",
       "version_major": 2,
       "version_minor": 0
      },
      "text/plain": [
       "  0%|          | 0/2064 [00:00<?, ?it/s]"
      ]
     },
     "metadata": {},
     "output_type": "display_data"
    },
    {
     "data": {
      "application/vnd.jupyter.widget-view+json": {
       "model_id": "c1df57082a2e4f0bb415c2a73a71d407",
       "version_major": 2,
       "version_minor": 0
      },
      "text/plain": [
       "  0%|          | 0/131 [00:00<?, ?it/s]"
      ]
     },
     "metadata": {},
     "output_type": "display_data"
    },
    {
     "data": {
      "application/vnd.jupyter.widget-view+json": {
       "model_id": "da00b872e68e448b87e1e1d7df9a90af",
       "version_major": 2,
       "version_minor": 0
      },
      "text/plain": [
       "  0%|          | 0/23455 [00:00<?, ?it/s]"
      ]
     },
     "metadata": {},
     "output_type": "display_data"
    },
    {
     "data": {
      "application/vnd.jupyter.widget-view+json": {
       "model_id": "f6a066cf01f041688dfe8b598b60e91f",
       "version_major": 2,
       "version_minor": 0
      },
      "text/plain": [
       "  0%|          | 0/7133 [00:00<?, ?it/s]"
      ]
     },
     "metadata": {},
     "output_type": "display_data"
    },
    {
     "data": {
      "application/vnd.jupyter.widget-view+json": {
       "model_id": "97d223fe720c4590aa24d9643c8c5fdb",
       "version_major": 2,
       "version_minor": 0
      },
      "text/plain": [
       "  0%|          | 0/7035 [00:00<?, ?it/s]"
      ]
     },
     "metadata": {},
     "output_type": "display_data"
    }
   ],
   "source": [
    "# copy *.jpg files to custom folder\n",
    "for dataset in tqdm(result[\"dataset\"].unique()):\n",
    "    for fname in tqdm(img_df.loc[img_df[\"dataset\"] == dataset][\"file_name\"].unique()):\n",
    "        src = os.path.join(\"all-images\", dataset, fname)\n",
    "        dst = os.path.join(\"ppes-custom-dataset\", \"all\", fname)\n",
    "        shutil.copy(src, dst)"
   ]
  },
  {
   "cell_type": "code",
   "execution_count": 11,
   "id": "6504f96f-dd37-4ab4-8c96-baaf060ea0e2",
   "metadata": {},
   "outputs": [],
   "source": [
    "# create annotations.json\n",
    "\n",
    "final_annot = [dict(v) for _, v in final_annot_df.iterrows()]\n",
    "\n",
    "final_img_df = img_df[['id', 'license', 'file_name', 'height', 'width', 'date_captured']]\n",
    "final_img = [dict(v) for _, v in final_img_df.iterrows()]\n",
    "\n",
    "final_cat = []\n",
    "for name, _id in id_dict.items():\n",
    "    final_cat.append({\n",
    "        \"id\": _id,\n",
    "        \"name\": name,\n",
    "        \"supercategory\": \"Workers\"\n",
    "    })\n",
    "    \n",
    "body = {}\n",
    "\n",
    "body['info'] = {\n",
    "    'year': '2020',\n",
    "    'version': '2',\n",
    "    'description': 'Exported from roboflow.ai',\n",
    "    'contributor': 'Northeastern University - China',\n",
    "    'url': 'https://public.roboflow.ai/object-detection/hard-hat-workers',\n",
    "    'date_created': '2020-04-30T03:26:22+00:00'\n",
    "}\n",
    "body['licenses'] = [{\n",
    "    'id': 1,\n",
    "    'url': 'https://creativecommons.org/publicdomain/zero/1.0/',\n",
    "    'name': 'Public Domain'\n",
    "}]\n",
    "body['categories'] = final_cat\n",
    "body['images'] = final_img\n",
    "body['annotations'] = final_annot\n",
    "\n",
    "with open(os.path.join(\"ppes-custom-dataset\", \"train\", '_annotations.coco.json'), 'w') as f:\n",
    "    json.dump(body, f)"
   ]
  },
  {
   "cell_type": "code",
   "execution_count": null,
   "id": "de06de54-c40d-4f5b-958c-211b3d39eedb",
   "metadata": {},
   "outputs": [],
   "source": []
  }
 ],
 "metadata": {
  "kernelspec": {
   "display_name": "Python 3",
   "language": "python",
   "name": "python3"
  },
  "language_info": {
   "codemirror_mode": {
    "name": "ipython",
    "version": 3
   },
   "file_extension": ".py",
   "mimetype": "text/x-python",
   "name": "python",
   "nbconvert_exporter": "python",
   "pygments_lexer": "ipython3",
   "version": "3.8.16"
  }
 },
 "nbformat": 4,
 "nbformat_minor": 5
}
