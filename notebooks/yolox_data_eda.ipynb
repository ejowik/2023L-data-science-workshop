{
 "cells": [
  {
   "cell_type": "code",
   "execution_count": 1,
   "id": "11ac7d9b-23f0-4589-938d-b59b8292ece3",
   "metadata": {},
   "outputs": [],
   "source": [
    "import json\n",
    "import numpy as np\n",
    "import pandas as pd\n",
    "from tqdm.notebook import tqdm"
   ]
  },
  {
   "cell_type": "code",
   "execution_count": 2,
   "id": "7fce1ef0-dacc-4ed6-b590-457d2d741bf2",
   "metadata": {},
   "outputs": [],
   "source": [
    "def extract_categories(annot_fpath, categories):\n",
    "    f = open(annot_fpath)\n",
    "    body = json.load(f)\n",
    "\n",
    "    # iterate over all categories in the dataset and get\n",
    "    # detailed info of the those listed in cat_names\n",
    "    cat_id = []\n",
    "    cat_subset = []\n",
    "    for c in body[\"categories\"]:\n",
    "        if c[\"name\"] in categories:\n",
    "            cat_id.append(c[\"id\"])\n",
    "            cat_subset.append(c)\n",
    "\n",
    "    # iterate over all annotations in the dataset \n",
    "    # and get images and annotations for the categories\n",
    "    # of interest\n",
    "    annot_subset = []\n",
    "    img_id_list = []\n",
    "    for annot in tqdm(body[\"annotations\"]):\n",
    "        if annot['category_id'] in cat_id:\n",
    "            annot_subset.append(annot)\n",
    "            img_id_list.append(annot[\"image_id\"])\n",
    "\n",
    "    img_id_list = list(np.unique(img_id_list))\n",
    "\n",
    "    # iterate over all images in the dataset \n",
    "    # and get images labeled with categories\n",
    "    # of interest\n",
    "    img_subset = []\n",
    "    for img in body[\"images\"]:\n",
    "        if img[\"id\"] in img_id_list:\n",
    "            img_subset.append(img)\n",
    "    return cat_subset, annot_subset, img_subset"
   ]
  },
  {
   "cell_type": "markdown",
   "id": "d1ac33a0-7077-4247-a7ed-db091c990e0b",
   "metadata": {},
   "source": [
    "### ppe_v3\n",
    "https://universe.roboflow.com/factory-2qr1r/ppe_v3"
   ]
  },
  {
   "cell_type": "code",
   "execution_count": 3,
   "id": "e7c8b029-9123-484c-91ed-5110695d02b4",
   "metadata": {},
   "outputs": [],
   "source": [
    "in_fpath1 = \"ppe_v3/ppe_v3.v5i.coco/train/_annotations.coco.json\""
   ]
  },
  {
   "cell_type": "code",
   "execution_count": 4,
   "id": "7567f649-ec20-40eb-8f11-a4fc308c6d05",
   "metadata": {},
   "outputs": [],
   "source": [
    "cat_names1 = [\n",
    "    'head_helmet',\n",
    "    'head_nohelmet',\n",
    "    'person',\n",
    "    'vest'\n",
    "]"
   ]
  },
  {
   "cell_type": "code",
   "execution_count": 5,
   "id": "8d6d3100-64b3-482b-b15c-b39ce3a3228c",
   "metadata": {},
   "outputs": [
    {
     "data": {
      "application/vnd.jupyter.widget-view+json": {
       "model_id": "fee09569ae53417183b44143eb0333d7",
       "version_major": 2,
       "version_minor": 0
      },
      "text/plain": [
       "  0%|          | 0/19660 [00:00<?, ?it/s]"
      ]
     },
     "metadata": {},
     "output_type": "display_data"
    }
   ],
   "source": [
    "ppev3_cat, ppev3_annot, ppev3_img = extract_categories(annot_fpath=in_fpath1, categories=cat_names1)"
   ]
  },
  {
   "cell_type": "markdown",
   "id": "9726ed58-801c-4427-8e31-23fe753d7673",
   "metadata": {},
   "source": [
    "### ppe8-0mhax\n",
    "https://universe.roboflow.com/ppe8/ppe8-0mhax"
   ]
  },
  {
   "cell_type": "code",
   "execution_count": 6,
   "id": "b712a3bd-5006-4dfe-ac68-d599e63c296d",
   "metadata": {},
   "outputs": [],
   "source": [
    "in_fpath2 = \"ppe8-0mhax/ppe8.v1-raw.coco/train/_annotations.coco.json\"\n",
    "in_fpath3 = \"ppe8-0mhax/ppe8.v1-raw.coco/valid/_annotations.coco.json\""
   ]
  },
  {
   "cell_type": "code",
   "execution_count": 7,
   "id": "b15d4848-4bb8-4eb4-a7f4-08c1f48fe978",
   "metadata": {},
   "outputs": [
    {
     "data": {
      "application/vnd.jupyter.widget-view+json": {
       "model_id": "bb69a2ed80e043ea9d9a2d037b064e66",
       "version_major": 2,
       "version_minor": 0
      },
      "text/plain": [
       "  0%|          | 0/869 [00:00<?, ?it/s]"
      ]
     },
     "metadata": {},
     "output_type": "display_data"
    },
    {
     "data": {
      "application/vnd.jupyter.widget-view+json": {
       "model_id": "470e6307304a4d7fbfd9dd422ea782e0",
       "version_major": 2,
       "version_minor": 0
      },
      "text/plain": [
       "  0%|          | 0/426 [00:00<?, ?it/s]"
      ]
     },
     "metadata": {},
     "output_type": "display_data"
    }
   ],
   "source": [
    "# cat_names are exacly the same as in the case of ppe_v3 dataset\n",
    "ppe8_cat, ppe8_annot1, ppe8_img1 = extract_categories(annot_fpath=in_fpath2, categories=cat_names1)\n",
    "_, ppe8_annot2, ppe8_img2 = extract_categories(annot_fpath=in_fpath3, categories=cat_names1)"
   ]
  },
  {
   "cell_type": "markdown",
   "id": "a26e5c59-bb51-4c01-87bb-9938ce5772a4",
   "metadata": {},
   "source": [
    "### personal-protective-equipment-combined-model\n",
    "https://universe.roboflow.com/roboflow-universe-projects/personal-protective-equipment-combined-model"
   ]
  },
  {
   "cell_type": "code",
   "execution_count": 8,
   "id": "62eb2a55-910b-4981-b0b6-f5b334785222",
   "metadata": {},
   "outputs": [],
   "source": [
    "in_fpath4 = \"personal-protective-equipment-combined-model/Personal Protective Equipment - Combined Model.v4-resize640_allclasses_noaugs.coco/train/_annotations.coco.json\"\n",
    "in_fpath5 = \"personal-protective-equipment-combined-model/Personal Protective Equipment - Combined Model.v4-resize640_allclasses_noaugs.coco/valid/_annotations.coco.json\"\n",
    "in_fpath6 = \"personal-protective-equipment-combined-model/Personal Protective Equipment - Combined Model.v4-resize640_allclasses_noaugs.coco/test/_annotations.coco.json\"\n"
   ]
  },
  {
   "cell_type": "code",
   "execution_count": 9,
   "id": "36203faa-7f67-4c74-b345-a1c671bc3d2d",
   "metadata": {},
   "outputs": [],
   "source": [
    "cat_names2 = [\n",
    "    \"Hardhat\",\n",
    "    \"NO-Hardhat\",\n",
    "    \"NO-Safety Vest\",\n",
    "    \"Person\",\n",
    "    \"Safety Vest\"\n",
    "]"
   ]
  },
  {
   "cell_type": "code",
   "execution_count": 10,
   "id": "414f99cc-7047-4f17-aee4-e4c4ccdf686b",
   "metadata": {},
   "outputs": [
    {
     "data": {
      "application/vnd.jupyter.widget-view+json": {
       "model_id": "61f9024ae2df43d9ac74e8ac8774bc1f",
       "version_major": 2,
       "version_minor": 0
      },
      "text/plain": [
       "  0%|          | 0/76398 [00:00<?, ?it/s]"
      ]
     },
     "metadata": {},
     "output_type": "display_data"
    },
    {
     "data": {
      "application/vnd.jupyter.widget-view+json": {
       "model_id": "b6226fac6c664560973d5267c078073b",
       "version_major": 2,
       "version_minor": 0
      },
      "text/plain": [
       "  0%|          | 0/22077 [00:00<?, ?it/s]"
      ]
     },
     "metadata": {},
     "output_type": "display_data"
    },
    {
     "data": {
      "application/vnd.jupyter.widget-view+json": {
       "model_id": "ac10bac73a3c435a92cbbbd47103c346",
       "version_major": 2,
       "version_minor": 0
      },
      "text/plain": [
       "  0%|          | 0/11086 [00:00<?, ?it/s]"
      ]
     },
     "metadata": {},
     "output_type": "display_data"
    }
   ],
   "source": [
    "ppecm_cat, ppecm_annot1, ppecm_img1 = extract_categories(annot_fpath=in_fpath4, categories=cat_names2)\n",
    "_, ppecm_annot2, ppecm_img2 = extract_categories(annot_fpath=in_fpath5, categories=cat_names2)\n",
    "_, ppecm_annot3, ppecm_img3 = extract_categories(annot_fpath=in_fpath6, categories=cat_names2)"
   ]
  },
  {
   "cell_type": "markdown",
   "id": "182be2c0-bd0b-4423-9bdf-d37ae4058db8",
   "metadata": {},
   "source": [
    "### Construction PPEs Computer Vision Project\n",
    "https://universe.roboflow.com/aast-ni1jb/construction-ppes"
   ]
  },
  {
   "cell_type": "code",
   "execution_count": 11,
   "id": "6a3fc330-18ae-41d0-9b9b-542b29a95bb3",
   "metadata": {},
   "outputs": [],
   "source": [
    "in_fpath7 = \"construction-ppes/Construction PPEs.v6i.coco/train/_annotations.coco.json\"\n",
    "in_fpath8 = \"construction-ppes/Construction PPEs.v6i.coco/valid/_annotations.coco.json\"\n",
    "in_fpath9 = \"construction-ppes/Construction PPEs.v6i.coco/test/_annotations.coco.json\""
   ]
  },
  {
   "cell_type": "code",
   "execution_count": 12,
   "id": "d82b150e-c5af-45b7-9ff4-f99760894d42",
   "metadata": {},
   "outputs": [],
   "source": [
    "cat_names3 = [\n",
    "    \"Helmet\",\n",
    "    \"Person\",\n",
    "    \"Vest\",\n",
    "    \"chest\",\n",
    "    \"head\"\n",
    "]"
   ]
  },
  {
   "cell_type": "code",
   "execution_count": 13,
   "id": "990d4e94-f59d-424d-ad82-403b146ff914",
   "metadata": {},
   "outputs": [
    {
     "data": {
      "application/vnd.jupyter.widget-view+json": {
       "model_id": "67361122b582466e93f54d3a3c458b8b",
       "version_major": 2,
       "version_minor": 0
      },
      "text/plain": [
       "  0%|          | 0/92136 [00:00<?, ?it/s]"
      ]
     },
     "metadata": {},
     "output_type": "display_data"
    },
    {
     "data": {
      "application/vnd.jupyter.widget-view+json": {
       "model_id": "420d4ddf91d54bf58f5f0053ea8ef25d",
       "version_major": 2,
       "version_minor": 0
      },
      "text/plain": [
       "  0%|          | 0/25727 [00:00<?, ?it/s]"
      ]
     },
     "metadata": {},
     "output_type": "display_data"
    },
    {
     "data": {
      "application/vnd.jupyter.widget-view+json": {
       "model_id": "e1d2f425dd644887958a0353d5b509ed",
       "version_major": 2,
       "version_minor": 0
      },
      "text/plain": [
       "  0%|          | 0/13647 [00:00<?, ?it/s]"
      ]
     },
     "metadata": {},
     "output_type": "display_data"
    }
   ],
   "source": [
    "cppecvp_cat, cppecvp_annot1, cppecvp_img1 = extract_categories(annot_fpath=in_fpath7, categories=cat_names3)\n",
    "_, cppecvp_annot2, cppecvp_img2 = extract_categories(annot_fpath=in_fpath8, categories=cat_names3)\n",
    "_, cppecvp_annot3, cppecvp_img3 = extract_categories(annot_fpath=in_fpath9, categories=cat_names3)"
   ]
  },
  {
   "cell_type": "markdown",
   "id": "639ab3dc-4809-482a-b953-77e8b2e8c408",
   "metadata": {
    "jp-MarkdownHeadingCollapsed": true,
    "tags": []
   },
   "source": [
    "### Safety Vests Computer Vision Project\n",
    "https://universe.roboflow.com/roboflow-universe-projects/safety-vests\n",
    "\n",
    "*Covered by personal-protective-equipment-combined-model dataset*"
   ]
  },
  {
   "cell_type": "code",
   "execution_count": 14,
   "id": "8e451ab8-9f07-4211-8279-462de61557ac",
   "metadata": {},
   "outputs": [],
   "source": [
    "# in_fpath10 = \"safety-vests/Safety Vests.v6i.coco/train/_annotations.coco.json\"\n",
    "# in_fpath11 = \"safety-vests/Safety Vests.v6i.coco/valid/_annotations.coco.json\"\n",
    "# in_fpath12 = \"safety-vests/Safety Vests.v6i.coco/test/_annotations.coco.json\""
   ]
  },
  {
   "cell_type": "code",
   "execution_count": 15,
   "id": "4a747002-1faa-40be-a105-61ba40c52d31",
   "metadata": {},
   "outputs": [],
   "source": [
    "# cat_names4 = [\n",
    "#     \"NO-Safety Vest\",\n",
    "#     \"Safety Vest\",\n",
    "# ]"
   ]
  },
  {
   "cell_type": "code",
   "execution_count": 16,
   "id": "da155ad2-afc5-4381-b89d-ab2cd5eefd89",
   "metadata": {},
   "outputs": [],
   "source": [
    "# svcvp_cat, svcvp_annot1, svcvp_img1 = extract_categories(annot_fpath=in_fpath10, categories=cat_names4)\n",
    "# _, svcvp_annot2, svcvp_img2 = extract_categories(annot_fpath=in_fpath11, categories=cat_names4)\n",
    "# _, svcvp_annot3, svcvp_img3 = extract_categories(annot_fpath=in_fpath12, categories=cat_names4)"
   ]
  },
  {
   "cell_type": "markdown",
   "id": "05c920c0-f34b-4586-8c89-5a4dcf5919c9",
   "metadata": {},
   "source": [
    "### Hard Hat Workers\n",
    "https://public.roboflow.com/object-detection/hard-hat-workers "
   ]
  },
  {
   "cell_type": "code",
   "execution_count": 17,
   "id": "885782f1-6e7a-451f-a372-cd47263b94b4",
   "metadata": {},
   "outputs": [],
   "source": [
    "hhw_fpath1 = \"hard-hat-workers/Hard Hat Workers.v2-raw.coco/train/_annotations.coco.json\"\n",
    "hhw_fpath2 = \"hard-hat-workers/Hard Hat Workers.v2-raw.coco/test/_annotations.coco.json\""
   ]
  },
  {
   "cell_type": "code",
   "execution_count": 18,
   "id": "e7a057ac-5642-4e7f-88ee-3f644add1985",
   "metadata": {},
   "outputs": [],
   "source": [
    "f1 = open(hhw_fpath1)\n",
    "f2 = open(hhw_fpath2)\n",
    "\n",
    "body1 = json.load(f1)\n",
    "body2 = json.load(f2)"
   ]
  },
  {
   "cell_type": "code",
   "execution_count": 19,
   "id": "4725c760-cde6-4746-a38a-b8f32ba18d61",
   "metadata": {},
   "outputs": [
    {
     "name": "stdout",
     "output_type": "stream",
     "text": [
      "{0: 'Workers', 1: 'head', 2: 'helmet', 3: 'person'}\n"
     ]
    },
    {
     "data": {
      "text/plain": [
       "helmet    19747\n",
       "head       6677\n",
       "person      615\n",
       "Name: category_id, dtype: int64"
      ]
     },
     "execution_count": 19,
     "metadata": {},
     "output_type": "execute_result"
    }
   ],
   "source": [
    "cat_dict = {}\n",
    "\n",
    "for item in body1[\"categories\"]:\n",
    "    cat_dict[item[\"id\"]] = item[\"name\"]\n",
    "    \n",
    "print(cat_dict)\n",
    "\n",
    "pd.DataFrame(body1[\"annotations\"] + body2[\"annotations\"])[\"category_id\"].replace(cat_dict).value_counts() "
   ]
  },
  {
   "cell_type": "code",
   "execution_count": 20,
   "id": "3ef73815-d02d-416a-9fb2-067f0de2bf1b",
   "metadata": {},
   "outputs": [],
   "source": [
    "# no annotations assigning images to the 'Workers' class"
   ]
  },
  {
   "cell_type": "markdown",
   "id": "e5b7cbf2-58d9-4314-931e-eeba1614f7bc",
   "metadata": {
    "tags": []
   },
   "source": [
    "## Summary"
   ]
  },
  {
   "cell_type": "code",
   "execution_count": 21,
   "id": "ae4557cf-43c0-4131-9a88-b6dddf51faf6",
   "metadata": {},
   "outputs": [],
   "source": [
    "# consistent categories\n",
    "categories = {\n",
    "    'helmet': 'helmet',\n",
    "    'Helmet': 'helmet',\n",
    "    'head_helmet': 'helmet',\n",
    "    'Hardhat': 'helmet',\n",
    "    \n",
    "    'head_nohelmet': 'head_nohelmet',\n",
    "    'head': 'head_nohelmet',\n",
    "    'NO-Hardhat': 'head_nohelmet',\n",
    "    'Head': 'head_nohelmet',\n",
    "\n",
    "    'vest': 'vest',\n",
    "    'Vest': 'vest',\n",
    "    'Safety Vest': 'vest',\n",
    "    \n",
    "    'NO-Safety Vest': 'no_vest',\n",
    "    'chest': 'no_vest',\n",
    "    \n",
    "    'Person': 'person',\n",
    "    'person': 'person',\n",
    "}"
   ]
  },
  {
   "cell_type": "code",
   "execution_count": 22,
   "id": "f85fc514-a1a5-4b79-aabf-4a213af6fcfb",
   "metadata": {},
   "outputs": [],
   "source": [
    "def summary_prep(cat, annot, name, categories=categories):\n",
    "    cat_dict = {}\n",
    "    for item in cat:\n",
    "        cat_dict[item[\"id\"]] = item[\"name\"]\n",
    "\n",
    "    summ = pd.DataFrame(annot)[\"category_id\"].replace(cat_dict).replace(categories).value_counts()\n",
    "    return pd.DataFrame(summ).rename(columns={\"category_id\": name})"
   ]
  },
  {
   "cell_type": "code",
   "execution_count": 23,
   "id": "40d7d52b-0bef-414f-9b48-5d48476624d5",
   "metadata": {},
   "outputs": [
    {
     "data": {
      "application/vnd.jupyter.widget-view+json": {
       "model_id": "bdaac5d7d64747a2aeef9ba6d3eb73d0",
       "version_major": 2,
       "version_minor": 0
      },
      "text/plain": [
       "  0%|          | 0/20231 [00:00<?, ?it/s]"
      ]
     },
     "metadata": {},
     "output_type": "display_data"
    },
    {
     "data": {
      "application/vnd.jupyter.widget-view+json": {
       "model_id": "b753664678454a2b92a94341d9bc1d8c",
       "version_major": 2,
       "version_minor": 0
      },
      "text/plain": [
       "  0%|          | 0/6808 [00:00<?, ?it/s]"
      ]
     },
     "metadata": {},
     "output_type": "display_data"
    }
   ],
   "source": [
    "# Hard Hat Workers\n",
    "cat_names5 = ['head', 'helmet', 'person']\n",
    "\n",
    "hhw_cat, hhw_annot1, hhw_img1 = extract_categories(annot_fpath=hhw_fpath1, categories=cat_names5)\n",
    "_, hhw_annot2, hhw_img2 = extract_categories(annot_fpath=hhw_fpath2, categories=cat_names5)\n",
    "\n",
    "hhw_annot = hhw_annot1 + hhw_annot2\n",
    "hhw_summ = summary_prep(cat=hhw_cat, annot=hhw_annot, name=\"hhw\", categories=categories)"
   ]
  },
  {
   "cell_type": "code",
   "execution_count": 24,
   "id": "1ed70f29-af16-4fbc-aa93-add024dc5aa7",
   "metadata": {},
   "outputs": [],
   "source": [
    "# ppe_v3\n",
    "ppev3_summ = summary_prep(cat=ppev3_cat, annot=ppev3_annot, name=\"ppev3\", categories=categories)\n",
    "\n",
    "# ppe8-0mhax\n",
    "ppe8_annot = ppe8_annot1 + ppe8_annot2\n",
    "ppe8_summ = summary_prep(cat=ppe8_cat, annot=ppe8_annot, name=\"ppe8\", categories=categories)\n",
    "\n",
    "# personal-protective-equipment-combined-model\n",
    "ppecm_annot = ppecm_annot1 + ppecm_annot2 + ppecm_annot3\n",
    "ppecm_summ = summary_prep(cat=ppecm_cat, annot=ppecm_annot, name=\"ppecm\", categories=categories)\n",
    "\n",
    "# construction PPEs computer vision project\n",
    "cppecvp_annot = cppecvp_annot1 + cppecvp_annot2 + cppecvp_annot3\n",
    "cppecvp_summ = summary_prep(cat=cppecvp_cat, annot=cppecvp_annot, name=\"cppecvp\", categories=categories)\n",
    "\n",
    "# # safety vests computer vision project\n",
    "# svcvp_annot = svcvp_annot1 + svcvp_annot2 + svcvp_annot3\n",
    "# svcvp_summ = summary_prep(cat=svcvp_cat, annot=svcvp_annot, name=\"svcvp\", categories=categories)"
   ]
  },
  {
   "cell_type": "code",
   "execution_count": 25,
   "id": "d3d888fe-8a45-46a6-91a7-4865df249177",
   "metadata": {},
   "outputs": [
    {
     "data": {
      "text/html": [
       "<div>\n",
       "<style scoped>\n",
       "    .dataframe tbody tr th:only-of-type {\n",
       "        vertical-align: middle;\n",
       "    }\n",
       "\n",
       "    .dataframe tbody tr th {\n",
       "        vertical-align: top;\n",
       "    }\n",
       "\n",
       "    .dataframe thead th {\n",
       "        text-align: right;\n",
       "    }\n",
       "</style>\n",
       "<table border=\"1\" class=\"dataframe\">\n",
       "  <thead>\n",
       "    <tr style=\"text-align: right;\">\n",
       "      <th></th>\n",
       "      <th>hhw</th>\n",
       "      <th>ppecm</th>\n",
       "      <th>cppecvp</th>\n",
       "      <th>ppev3</th>\n",
       "      <th>ppe8</th>\n",
       "      <th>TOTAL</th>\n",
       "    </tr>\n",
       "  </thead>\n",
       "  <tbody>\n",
       "    <tr>\n",
       "      <th>helmet</th>\n",
       "      <td>19747.0</td>\n",
       "      <td>42428</td>\n",
       "      <td>24440</td>\n",
       "      <td>3567.0</td>\n",
       "      <td>195.0</td>\n",
       "      <td>90377.0</td>\n",
       "    </tr>\n",
       "    <tr>\n",
       "      <th>head_nohelmet</th>\n",
       "      <td>6677.0</td>\n",
       "      <td>12965</td>\n",
       "      <td>639</td>\n",
       "      <td>1406.0</td>\n",
       "      <td>103.0</td>\n",
       "      <td>21790.0</td>\n",
       "    </tr>\n",
       "    <tr>\n",
       "      <th>person</th>\n",
       "      <td>615.0</td>\n",
       "      <td>1449</td>\n",
       "      <td>33603</td>\n",
       "      <td>5098.0</td>\n",
       "      <td>277.0</td>\n",
       "      <td>41042.0</td>\n",
       "    </tr>\n",
       "    <tr>\n",
       "      <th>vest</th>\n",
       "      <td>0.0</td>\n",
       "      <td>6448</td>\n",
       "      <td>21152</td>\n",
       "      <td>1798.0</td>\n",
       "      <td>23.0</td>\n",
       "      <td>29421.0</td>\n",
       "    </tr>\n",
       "    <tr>\n",
       "      <th>no_vest</th>\n",
       "      <td>0.0</td>\n",
       "      <td>2022</td>\n",
       "      <td>803</td>\n",
       "      <td>0.0</td>\n",
       "      <td>0.0</td>\n",
       "      <td>2825.0</td>\n",
       "    </tr>\n",
       "  </tbody>\n",
       "</table>\n",
       "</div>"
      ],
      "text/plain": [
       "                   hhw  ppecm  cppecvp   ppev3   ppe8    TOTAL\n",
       "helmet         19747.0  42428    24440  3567.0  195.0  90377.0\n",
       "head_nohelmet   6677.0  12965      639  1406.0  103.0  21790.0\n",
       "person           615.0   1449    33603  5098.0  277.0  41042.0\n",
       "vest               0.0   6448    21152  1798.0   23.0  29421.0\n",
       "no_vest            0.0   2022      803     0.0    0.0   2825.0"
      ]
     },
     "execution_count": 25,
     "metadata": {},
     "output_type": "execute_result"
    }
   ],
   "source": [
    "summary = pd.concat([\n",
    "    hhw_summ,\n",
    "    ppecm_summ,\n",
    "    cppecvp_summ,\n",
    "    ppev3_summ,\n",
    "    # svcvp_summ,\n",
    "    ppe8_summ], axis=1).fillna(0)\n",
    "\n",
    "summary['TOTAL'] = summary.sum(axis=1)\n",
    "\n",
    "summary"
   ]
  },
  {
   "cell_type": "code",
   "execution_count": null,
   "id": "edc4b900-8a3c-43fe-909c-4210446d1ddf",
   "metadata": {},
   "outputs": [],
   "source": []
  }
 ],
 "metadata": {
  "kernelspec": {
   "display_name": "Python 3 (ipykernel)",
   "language": "python",
   "name": "python3"
  },
  "language_info": {
   "codemirror_mode": {
    "name": "ipython",
    "version": 3
   },
   "file_extension": ".py",
   "mimetype": "text/x-python",
   "name": "python",
   "nbconvert_exporter": "python",
   "pygments_lexer": "ipython3",
   "version": "3.9.12"
  }
 },
 "nbformat": 4,
 "nbformat_minor": 5
}
